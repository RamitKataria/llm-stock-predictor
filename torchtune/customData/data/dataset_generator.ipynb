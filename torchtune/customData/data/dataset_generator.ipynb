{
 "cells": [
  {
   "cell_type": "code",
   "execution_count": 6,
   "metadata": {},
   "outputs": [
    {
     "name": "stderr",
     "output_type": "stream",
     "text": [
      "No model was supplied, defaulted to distilbert/distilbert-base-uncased-finetuned-sst-2-english and revision af0f99b (https://huggingface.co/distilbert/distilbert-base-uncased-finetuned-sst-2-english).\n",
      "Using a pipeline without specifying a model name and revision in production is not recommended.\n"
     ]
    }
   ],
   "source": [
    "from transformers import pipeline\n",
    "import random\n",
    "from datetime import datetime, timedelta\n",
    "import csv\n",
    "\n",
    "# Initialize the sentiment analysis pipeline\n",
    "sentiment_pipeline = pipeline(\"sentiment-analysis\")\n",
    "\n",
    "# Function to generate random news content\n",
    "def generate_random_news():\n",
    "    # Sample news topics\n",
    "    topics = [\"Tech giant\", \"New government regulations\", \"Electric vehicle sales surge\", \n",
    "              \"Global economic uncertainty\", \"Major cybersecurity breach\"]\n",
    "\n",
    "    # Sample news events\n",
    "    events = [\"announces breakthrough in AI research\", \"impact pharmaceutical industry\",\n",
    "              \"in Q1 2024\", \"leads to market volatility\", \"affects multiple tech companies\"]\n",
    "\n",
    "    # Combine random topic and event to generate news content\n",
    "    news_content = random.choice(topics) + \" \" + random.choice(events)\n",
    "    return news_content\n",
    "\n",
    "# Function to perform sentiment analysis\n",
    "def perform_sentiment_analysis(news_content):\n",
    "    # Perform sentiment analysis\n",
    "    result = sentiment_pipeline(news_content)\n",
    "    # Extract sentiment label (positive/negative) and score\n",
    "    sentiment_label = result[0]['label']\n",
    "    sentiment_score = result[0]['score']\n",
    "    return sentiment_label, sentiment_score\n",
    "\n",
    "# Function to generate random example with news content, date, sentiment, and industry\n",
    "def generate_random_example(date):\n",
    "    news_content = generate_random_news()\n",
    "    sentiment_label, _ = perform_sentiment_analysis(news_content)\n",
    "    publication_date = date.strftime(\"%Y-%m-%d\")\n",
    "    industry = random.choice([\"Technology\", \"Healthcare\", \"Automotive\", \"Finance\"])\n",
    "\n",
    "    companies = [f\"Company{i}\" for i in range(1, 501)]\n",
    "    stock_price_changes = {company: round(random.uniform(-100, 100), 2) for company in companies}\n",
    "\n",
    "    # Ensure that some values are exactly 0\n",
    "    for _ in range(random.randint(10, 100)):\n",
    "        company = random.choice(companies)\n",
    "        stock_price_changes[company] = 0.00\n",
    "\n",
    "    return {\n",
    "        'News': news_content,\n",
    "        'Date': publication_date,\n",
    "        'Sentiment': sentiment_label,\n",
    "        'Industry': industry,\n",
    "        **stock_price_changes\n",
    "    }\n",
    "\n",
    "# Function to write data to CSV\n",
    "def write_to_csv(filename, data):\n",
    "    with open(filename, mode='w', newline='') as file:\n",
    "        writer = csv.DictWriter(file, fieldnames=data[0].keys())\n",
    "        writer.writeheader()\n",
    "        for row in data:\n",
    "            writer.writerow(row)\n",
    "\n",
    "if __name__ == \"__main__\":\n",
    "    num_examples = 100\n",
    "    start_date = datetime(2024, 4, 16)  # Start date for generating random dates\n",
    "    examples = []\n",
    "    for i in range(num_examples):\n",
    "        example_date = start_date + timedelta(days=i)\n",
    "        examples.append(generate_random_example(example_date))\n",
    "    write_to_csv(\"dataset.csv\", examples)\n"
   ]
  },
  {
   "cell_type": "markdown",
   "metadata": {},
   "source": []
  }
 ],
 "metadata": {
  "kernelspec": {
   "display_name": "llm",
   "language": "python",
   "name": "python3"
  },
  "language_info": {
   "codemirror_mode": {
    "name": "ipython",
    "version": 3
   },
   "file_extension": ".py",
   "mimetype": "text/x-python",
   "name": "python",
   "nbconvert_exporter": "python",
   "pygments_lexer": "ipython3",
   "version": "3.11.9"
  }
 },
 "nbformat": 4,
 "nbformat_minor": 2
}
